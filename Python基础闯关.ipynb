{
 "cells": [
  {
   "cell_type": "code",
   "execution_count": 1,
   "metadata": {},
   "outputs": [
    {
     "name": "stdout",
     "output_type": "stream",
     "text": [
      "100\n",
      "hello\n",
      "True\n"
     ]
    }
   ],
   "source": [
    "def foo():\n",
    "    b = 'hello'\n",
    "\n",
    "    # Python中可以在函数内部再定义函数\n",
    "    def bar():\n",
    "        c = True\n",
    "        print(a)\n",
    "        print(b)\n",
    "        print(c)\n",
    "\n",
    "    bar()\n",
    "    # print(c)  # NameError: name 'c' is not defined\n",
    "\n",
    "\n",
    "if __name__ == '__main__':\n",
    "    a = 100\n",
    "    # print(b)  # NameError: name 'b' is not defined\n",
    "    foo()"
   ]
  },
  {
   "cell_type": "code",
   "execution_count": 2,
   "metadata": {},
   "outputs": [
    {
     "name": "stdout",
     "output_type": "stream",
     "text": [
      "200\n",
      "100\n"
     ]
    }
   ],
   "source": [
    "def foo():\n",
    "    a = 200\n",
    "    print(a)  # 200\n",
    "\n",
    "\n",
    "if __name__ == '__main__':\n",
    "    a = 100\n",
    "    foo()\n",
    "    print(a)  # 100"
   ]
  },
  {
   "cell_type": "code",
   "execution_count": 3,
   "metadata": {},
   "outputs": [
    {
     "name": "stdout",
     "output_type": "stream",
     "text": [
      "200\n",
      "200\n"
     ]
    }
   ],
   "source": [
    "def foo():\n",
    "    global a\n",
    "    a = 200\n",
    "    print(a)  # 200\n",
    "\n",
    "\n",
    "if __name__ == '__main__':\n",
    "    a = 100\n",
    "    foo()\n",
    "    print(a)  # 200"
   ]
  },
  {
   "cell_type": "code",
   "execution_count": 41,
   "metadata": {},
   "outputs": [
    {
     "name": "stdout",
     "output_type": "stream",
     "text": [
      "[6, 28, 496, 8128]\n"
     ]
    }
   ],
   "source": [
    "# 1. 找出10000以内的完美数，保存到列表L1中。\n",
    "L1 = []\n",
    "for num in range(1, 10001):\n",
    "    sum = 0\n",
    "    for i in range(1, num):\n",
    "        if num % i == 0:\n",
    "            sum += i\n",
    "    if sum == num:\n",
    "        # print(num)\n",
    "        L1.append(num)\n",
    "    num += 1\n",
    "print(L1)"
   ]
  },
  {
   "cell_type": "code",
   "execution_count": 123,
   "metadata": {},
   "outputs": [
    {
     "name": "stdout",
     "output_type": "stream",
     "text": [
      "[153, 370, 371, 407]\n"
     ]
    }
   ],
   "source": [
    "# 2. 寻找1000内的水仙花数，并保存到列表L2中；\n",
    "L2 = []\n",
    "for num in range(2, 1000):\n",
    "    a = num // 100\n",
    "    b = num % 100 // 10\n",
    "    c = num % 10\n",
    "\n",
    "    if a ** 3 + b ** 3 + c ** 3 == num:\n",
    "        L2.append(num)\n",
    "print(L2)"
   ]
  },
  {
   "cell_type": "code",
   "execution_count": 122,
   "metadata": {},
   "outputs": [
    {
     "name": "stdout",
     "output_type": "stream",
     "text": [
      "[313, 353, 373, 383]\n"
     ]
    }
   ],
   "source": [
    "# 3. 写一个程序查询300到500内的回文素数，并保存到列表L3中；\n",
    "import math\n",
    "\n",
    "def isPrimeNumber(n):\n",
    "    for i in range(2, n):\n",
    "        if n % i == 0:\n",
    "            break\n",
    "    else:\n",
    "        return n   \n",
    "\n",
    "def isPalindrome(num):\n",
    "    a = str(num)\n",
    "    l = math.ceil(len(a)/2)\n",
    "    for i in range(0, l):\n",
    "        # print(i)\n",
    "        if a[i] != a[len(a) - i - 1]:\n",
    "            break   \n",
    "    else: \n",
    "       return num     \n",
    "\n",
    "L3 = []\n",
    "\n",
    "for num in range(300, 501):\n",
    "    if isPalindrome(num):\n",
    "        if isPrimeNumber(num):\n",
    "            L3.append(num)\n",
    "print(L3)"
   ]
  },
  {
   "attachments": {},
   "cell_type": "markdown",
   "metadata": {},
   "source": [
    "## 第三关"
   ]
  },
  {
   "cell_type": "code",
   "execution_count": 4,
   "metadata": {},
   "outputs": [
    {
     "name": "stdout",
     "output_type": "stream",
     "text": [
      "<class 'str'>\n"
     ]
    }
   ],
   "source": [
    "# 计算约瑟夫环问题\n",
    "my_list = [1] * 30\n",
    "change_list = my_list\n",
    "# print(my_list)\n",
    "# my_list = [chr(num) for num in my_list]\n",
    "# print(type(my_list[1]))\n",
    "\n",
    "my_list[8] = 0\n",
    "change_list.pop(8)\n",
    "\n",
    "for i in range(0, 9):\n",
    "    if i == 8:\n",
    "        my_list[i]"
   ]
  },
  {
   "cell_type": "code",
   "execution_count": 17,
   "metadata": {},
   "outputs": [
    {
     "name": "stdout",
     "output_type": "stream",
     "text": [
      "[1, 1, 1, 1, 0, 0, 0, 0, 0, 1, 1, 0, 1, 1, 1, 0, 1, 0, 0, 1, 1, 0, 0, 0, 1, 0, 0, 1, 1, 0]\n"
     ]
    }
   ],
   "source": [
    "def josephus_problem(num_people, count, totality):\n",
    "    circle = [1] * num_people  # 初始化所有人为基督徒（用1表示）\n",
    "\n",
    "    index = 0  # 从第一个人开始报数\n",
    "    while sum(circle) > num_people - totality:\n",
    "        count_current = 0\n",
    "        while count_current < count:\n",
    "            if circle[index] == 1:\n",
    "                count_current += 1\n",
    "            if count_current < count:\n",
    "                index = (index + 1) % num_people\n",
    "\n",
    "        circle[index] = 0  # 扔到海里面，用0表示非基督徒\n",
    "\n",
    "    return circle\n",
    "\n",
    "# 解决问题\n",
    "result = josephus_problem(30, 9, 15)\n",
    "result = [str(i) for i in result]\n",
    "# 输出最后的站位，1表示基督徒，0表示非基督徒\n",
    "print(result)\n",
    "\n"
   ]
  },
  {
   "cell_type": "code",
   "execution_count": null,
   "metadata": {},
   "outputs": [],
   "source": [
    "busy_travel_season = [1, 2, 7, 8, 9, 10, 12]\n",
    "quiet_travel_season = [3, 4, 5, 6, 11]\n",
    "\n",
    "def TicketPrice(month, order_quantity, base_price):\n",
    "    if month in busy_travel_season:\n",
    "        if order_quantity >= 15:\n",
    "            print(\"票价优惠率：0.15\")\n",
    "            price =  base_price * order_quantity * (1 - 0.15)\n",
    "        else:\n",
    "            print(\"票价优惠率：0.05\")\n",
    "            price =  base_price * order_quantity * (1 - 0.05)\n",
    "    else:\n",
    "        if order_quantity >= 20:\n",
    "            print(\"票价优惠率：0.30\")\n",
    "            price =  base_price * order_quantity * (1 - 0.3)\n",
    "        elif order_quantity  < 5:\n",
    "            print(\"票价优惠率：0.1\")\n",
    "            price =  base_price * order_quantity * (1 - 0.1)\n",
    "    return price\n",
    "\n",
    "while(True):      \n",
    "    month = int(input(\"请输入月份：\"))\n",
    "    order_quantity = int(input(\"请输入订票张数:\"))\n",
    "    base_price = int(input(\"请输入机票原价：\"))\n",
    "    price = TicketPrice(month, order_quantity, base_price)\n",
    "    print(\"应付票款：%.1f\" % price)\n",
    "    a = input(\"输入结束了吗？\")\n",
    "    if a == \"y\" or a == \"Y\" or a == \"yes\" or a == \"YES\":\n",
    "        break"
   ]
  },
  {
   "cell_type": "code",
   "execution_count": 15,
   "metadata": {},
   "outputs": [
    {
     "name": "stdout",
     "output_type": "stream",
     "text": [
      "1980-11-28 所在年份的天数: 333\n",
      "2020-01-01 所在年份的天数: 1\n",
      "2021-05-01 所在年份的天数: 121\n",
      "保存到 L3 中的结果: [333, 1, 121]\n"
     ]
    }
   ],
   "source": [
    "# 题目3：计算指定的年月日是这一年的第几天。\n",
    "from datetime import datetime\n",
    "\n",
    "# 给定三个日期\n",
    "date1 = datetime.strptime(\"1980-11-28\", \"%Y-%m-%d\")\n",
    "date2 = datetime.strptime(\"2020-01-01\", \"%Y-%m-%d\")\n",
    "date3 = datetime.strptime(\"2021-05-01\", \"%Y-%m-%d\")\n",
    "\n",
    "# 计算每个日期所在年份的天数\n",
    "days_in_year1 = (date1 - datetime(date1.year, 1, 1)).days + 1\n",
    "days_in_year2 = (date2 - datetime(date2.year, 1, 1)).days + 1\n",
    "days_in_year3 = (date3 - datetime(date3.year, 1, 1)).days + 1\n",
    "\n",
    "# 将结果保存到变量 L3 中\n",
    "L3 = [days_in_year1, days_in_year2, days_in_year3]\n",
    "\n",
    "# 输出结果\n",
    "print(\"1980-11-28 所在年份的天数:\", days_in_year1)\n",
    "print(\"2020-01-01 所在年份的天数:\", days_in_year2)\n",
    "print(\"2021-05-01 所在年份的天数:\", days_in_year3)\n",
    "\n",
    "# 输出保存到 L3 中的结果\n",
    "print(\"保存到 L3 中的结果:\", L3)\n"
   ]
  },
  {
   "attachments": {},
   "cell_type": "markdown",
   "metadata": {},
   "source": [
    "## 第四关\n"
   ]
  },
  {
   "cell_type": "code",
   "execution_count": 1,
   "metadata": {},
   "outputs": [
    {
     "name": "stdout",
     "output_type": "stream",
     "text": [
      "[123, 124, 132, 134, 142, 143, 213, 214, 231, 234, 241, 243, 312, 314, 321, 324, 341, 342, 412, 413, 421, 423, 431, 432]\n"
     ]
    }
   ],
   "source": [
    "# 闯关4\n",
    "# 第一题\n",
    "num_list = []\n",
    "for i in [1, 2, 3, 4]:\n",
    "    for j in [1, 2, 3, 4]:\n",
    "        for k in [1, 2, 3, 4]:\n",
    "            if i != j and j != k and i != k:\n",
    "                num = i * 100 + j * 10 + k\n",
    "                num_list.append(num)\n",
    "print(num_list)"
   ]
  },
  {
   "cell_type": "code",
   "execution_count": 10,
   "metadata": {},
   "outputs": [
    {
     "name": "stdout",
     "output_type": "stream",
     "text": [
      "[11500]\n"
     ]
    }
   ],
   "source": [
    "## 4-2\n",
    "def RewardCalculation(profit):\n",
    "    if profit < 0:\n",
    "        print(\"输入有误\")\n",
    "    elif profit <= 100000:\n",
    "        reward = 0.1 * profit\n",
    "    elif profit <= 200000 and profit > 100000:\n",
    "        reward = 0.1 * 100000 + (profit - 100000) * 0.075\n",
    "    elif profit <= 400000 and profit > 200000:\n",
    "        reward = 0.1 * 100000 + 100000 * 0.075 + (profit - 200000) * 0.05\n",
    "    elif profit <= 600000 and profit > 400000:\n",
    "        reward = 0.1 * 100000 + 100000 * 0.075 + 200000 * 0.05 + (profit - 400000) * 0.03\n",
    "    elif profit <= 1000000 and profit > 600000:\n",
    "        reward = 0.1 * 100000 + 100000 * 0.075 + 200000 * 0.05 + 200000 * 0.03 + \\\n",
    "        (profit - 600000) * 0.015\n",
    "    else:\n",
    "        reward = 0.1 * 100000 + 100000 * 0.075 + 200000 * 0.05 + 200000 * 0.03 + \\\n",
    "        + 400000 * 0.015 +  (profit - 1000000) * 0.01\n",
    "    return reward\n",
    "\n",
    "L2 = int(RewardCalculation(120000))\n",
    "print([L2])"
   ]
  },
  {
   "cell_type": "code",
   "execution_count": 3,
   "metadata": {},
   "outputs": [
    {
     "name": "stdout",
     "output_type": "stream",
     "text": [
      "[-99, 21, 261, 1581]\n"
     ]
    }
   ],
   "source": [
    "# 4- 第三题\n",
    "x_list = []\n",
    "for i in range(2, int(168 / 2) + 1):\n",
    "    if 168 % i == 0:\n",
    "        j = 168 / i\n",
    "        if i > j and (i + j) % 2 == 0 and (i - j) % 2 == 0:\n",
    "            m = (i + j) / 2\n",
    "            n = (i - j) / 2\n",
    "            x = n * n - 100\n",
    "            x_list.append(x)\n",
    "x_list = [int(i) for i in x_list]\n",
    "print(x_list)"
   ]
  },
  {
   "cell_type": "code",
   "execution_count": 4,
   "metadata": {},
   "outputs": [
    {
     "name": "stdout",
     "output_type": "stream",
     "text": [
      "[273]\n"
     ]
    }
   ],
   "source": [
    "# 4-4\n",
    "from datetime import datetime\n",
    "date = datetime.strptime(\"2021-09-30\", \"%Y-%m-%d\")\n",
    "days_in_year = (date - datetime(date.year, 1, 1)).days + 1\n",
    "print([days_in_year])\n"
   ]
  },
  {
   "cell_type": "code",
   "execution_count": 17,
   "metadata": {},
   "outputs": [
    {
     "name": "stdout",
     "output_type": "stream",
     "text": [
      "[4, 13, 20]\n"
     ]
    }
   ],
   "source": [
    "# 输入三个整数\n",
    "x = 13\n",
    "y = 4\n",
    "z = 20\n",
    "\n",
    "# 将三个数按从小到大的顺序排列\n",
    "if x > y:\n",
    "    x, y = y, x\n",
    "if x > z:\n",
    "    x, z = z, x\n",
    "if y > z:\n",
    "    y, z = z, y\n",
    "\n",
    "# 输出结果\n",
    "print([x, y, z])\n"
   ]
  },
  {
   "cell_type": "code",
   "execution_count": 56,
   "metadata": {},
   "outputs": [
    {
     "name": "stdout",
     "output_type": "stream",
     "text": [
      "55\n"
     ]
    }
   ],
   "source": [
    "4-6\n",
    "\n",
    "def FibonacciSequence(n):\n",
    "    if n == 0:\n",
    "        f = 0\n",
    "    elif n == 1:\n",
    "        f = 1\n",
    "    else:\n",
    "        f =  FibonacciSequence(n-1) + FibonacciSequence(n-2) \n",
    "    return f\n",
    "\n",
    "print(FibonacciSequence(10))    "
   ]
  },
  {
   "cell_type": "code",
   "execution_count": 65,
   "metadata": {},
   "outputs": [
    {
     "name": "stdout",
     "output_type": "stream",
     "text": [
      "[1, 1, 2, 3, 5, 8, 13, 21, 34, 55]\n"
     ]
    }
   ],
   "source": [
    "# 4-7\n",
    "num_list = []\n",
    "for i in range(1, 11):\n",
    "    num_list.append(FibonacciSequence(i))\n",
    "print(num_list)"
   ]
  },
  {
   "cell_type": "code",
   "execution_count": 19,
   "metadata": {},
   "outputs": [
    {
     "name": "stdout",
     "output_type": "stream",
     "text": [
      "[2, 3, 3, 5]\n"
     ]
    }
   ],
   "source": [
    "# 4-8\n",
    "def prime_factors(n):\n",
    "    factors = []  # 用于保存质因数的数组\n",
    "    k = 2  # 从最小的质数2开始\n",
    "\n",
    "    while k <= n:\n",
    "        if n % k == 0:\n",
    "            factors.append(k)\n",
    "            n //= k\n",
    "        else:\n",
    "            k += 1\n",
    "    return factors\n",
    "\n",
    "# 测试\n",
    "# print(prime_factors(100010))\n",
    "number = 90\n",
    "L8 = prime_factors(number)\n",
    "print(L8)"
   ]
  },
  {
   "cell_type": "code",
   "execution_count": 2,
   "metadata": {},
   "outputs": [
    {
     "name": "stdout",
     "output_type": "stream",
     "text": [
      "char =  13\n",
      "space =  1\n",
      "digit =  6\n",
      "others =  3\n",
      "统计结果列表 L9: [13, 1, 6, 3]\n"
     ]
    }
   ],
   "source": [
    "# 4-9\n",
    "def count_characters(input_str):\n",
    "    letter_count = 0\n",
    "    space_count = 0\n",
    "    digit_count = 0\n",
    "    other_count = 0\n",
    "\n",
    "    for char in input_str:\n",
    "        if char.isalpha():\n",
    "            letter_count += 1\n",
    "        elif char.isspace():\n",
    "            space_count += 1\n",
    "        elif char.isdigit():\n",
    "            digit_count += 1\n",
    "        else:\n",
    "            other_count += 1\n",
    "\n",
    "    return [letter_count, space_count, digit_count, other_count]\n",
    "\n",
    "# 测试字符串\n",
    "input_string = '123runoobc kdf235*(dfl)'\n",
    "\n",
    "# 统计字符个数\n",
    "result_counts = count_characters(input_string)\n",
    "\n",
    "# 输出结果\n",
    "print(\"char = \", result_counts[0])\n",
    "print(\"space = \", result_counts[1])\n",
    "print(\"digit = \", result_counts[2])\n",
    "print(\"others = \", result_counts[3])\n",
    "\n",
    "# 将个数保存到列表 L9 中\n",
    "L9 = result_counts\n",
    "print(\"统计结果列表 L9:\", L9)\n"
   ]
  },
  {
   "cell_type": "code",
   "execution_count": 13,
   "metadata": {},
   "outputs": [
    {
     "name": "stdout",
     "output_type": "stream",
     "text": [
      "[6, 28, 496]\n"
     ]
    }
   ],
   "source": [
    "# 4-10\n",
    "def factors(n):\n",
    "    factors = []  # 用于保存因数的数组\n",
    "    k = 1  # 从最小的质数2开始\n",
    "    for i in range(1, n):\n",
    "        if n % i == 0:\n",
    "            factors.append(i)\n",
    "    return factors\n",
    "\n",
    "# a = factors(28)\n",
    "# print(sum(a))\n",
    "\n",
    "select_factors = []\n",
    "for n in range(1, 1000+1):\n",
    "    factor = factors(n)\n",
    "    if sum(factor) == n:\n",
    "        select_factors.append(n)\n",
    "print(select_factors)"
   ]
  },
  {
   "cell_type": "code",
   "execution_count": 31,
   "metadata": {},
   "outputs": [
    {
     "name": "stdout",
     "output_type": "stream",
     "text": [
      "50.0\n",
      "25.0\n",
      "12.5\n",
      "6.25\n",
      "3.125\n",
      "1.5625\n",
      "0.78125\n",
      "0.390625\n",
      "0.1953125\n",
      "第10次落地时，共经过的距离: 299.609375\n"
     ]
    }
   ],
   "source": [
    "# 4-11\n",
    "# 初始高度\n",
    "initial_height = 100\n",
    "# 弹跳次数\n",
    "num_bounces = 10\n",
    "# 初始化总距离\n",
    "total_distance = initial_height\n",
    "\n",
    "# 计算第2到第10次弹跳的距离并累加到总距离中\n",
    "for _ in range(1, num_bounces):\n",
    "    initial_height /= 2\n",
    "    total_distance += initial_height * 2\n",
    "    # print(initial_height)\n",
    "\n",
    "# 将结果保存到列表 L11 中\n",
    "L11 = total_distance\n",
    "\n",
    "# 输出结果\n",
    "print(\"第10次落地时，共经过的距离:\", L11)"
   ]
  },
  {
   "cell_type": "code",
   "execution_count": 35,
   "metadata": {},
   "outputs": [
    {
     "name": "stdout",
     "output_type": "stream",
     "text": [
      "1534\n"
     ]
    }
   ],
   "source": [
    "# 4-12\n",
    "def monkeyEatPeach(n):\n",
    "    if n == 10:\n",
    "        a = 1\n",
    "    else:\n",
    "        a = (monkeyEatPeach(n+1) + 1) * 2\n",
    "    return a\n",
    "    \n",
    "# for i in range(1, 11):\n",
    "print(monkeyEatPeach(1))"
   ]
  },
  {
   "cell_type": "code",
   "execution_count": 11,
   "metadata": {},
   "outputs": [
    {
     "name": "stdout",
     "output_type": "stream",
     "text": [
      "比赛名单如下：\n",
      "a 的对手是 z, b 的对手是 x, c 的对手是 y\n"
     ]
    }
   ],
   "source": [
    "# 4-13\n",
    "n = len(['x', 'y', 'z'])\n",
    "opponents = []\n",
    "\n",
    "for x in range(n):\n",
    "    for y in range(n):\n",
    "        for z in range(n):\n",
    "            if x != y and y != z and x != z and x not in [0] and z not in [0, 2]:\n",
    "                # print(x, y, z)\n",
    "                opponents.append(('xyz'[x], 'xyz'[y], 'xyz'[z]))\n",
    "# print(opponents)\n",
    "print(\"比赛名单如下：\")\n",
    "for a, b, c in opponents:\n",
    "    print(f\"a 的对手是 {a}, b 的对手是 {b}, c 的对手是 {c}\")\n",
    "# print('xyz'[2])\n",
    "# 令 L12 = ['z'] 即可"
   ]
  },
  {
   "cell_type": "code",
   "execution_count": 6,
   "metadata": {},
   "outputs": [
    {
     "name": "stdout",
     "output_type": "stream",
     "text": [
      "[9, 5, 4, 3, 2]\n"
     ]
    }
   ],
   "source": [
    "# 4-14\n",
    "# 给定数字\n",
    "number = 23459\n",
    "\n",
    "# 将数字转换为字符串，然后逆序打印各位数字\n",
    "reversed_digits = [int(digit) for digit in str(number)][::-1]\n",
    "\n",
    "# 将结果保存到列表 L14 中\n",
    "L14 = reversed_digits\n",
    "print(L14)"
   ]
  },
  {
   "cell_type": "code",
   "execution_count": 13,
   "metadata": {},
   "outputs": [
    {
     "name": "stdout",
     "output_type": "stream",
     "text": [
      "[1, 4, 5, 6, 9]\n"
     ]
    }
   ],
   "source": [
    "# 4-15\n",
    "import math\n",
    "# 给定数组\n",
    "num_list = [9,6,5,4,1]\n",
    "# for i in range(0, math.ceil(len(num_list)/2)):\n",
    "#     t = num_list[i]\n",
    "#     num_list[i] = num_list[len(num_list)- i - 1] \n",
    "#     num_list[len(num_list)- i - 1]  = t\n",
    "\n",
    "## 2\n",
    "arr = [9, 6, 5, 4, 1]\n",
    "reversed_arr = arr[::-1]\n",
    "\n",
    "result = reversed_arr\n",
    "\n",
    "print(result)\n",
    "# print(num_list)"
   ]
  }
 ],
 "metadata": {
  "kernelspec": {
   "display_name": "Python 3",
   "language": "python",
   "name": "python3"
  },
  "language_info": {
   "codemirror_mode": {
    "name": "ipython",
    "version": 3
   },
   "file_extension": ".py",
   "mimetype": "text/x-python",
   "name": "python",
   "nbconvert_exporter": "python",
   "pygments_lexer": "ipython3",
   "version": "3.11.2"
  },
  "orig_nbformat": 4
 },
 "nbformat": 4,
 "nbformat_minor": 2
}
