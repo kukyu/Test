{
 "cells": [
  {
   "cell_type": "code",
   "execution_count": 84,
   "metadata": {},
   "outputs": [
    {
     "name": "stdout",
     "output_type": "stream",
     "text": [
      "[28]\n"
     ]
    }
   ],
   "source": [
    "# 5-1\n",
    "def numberOff(headcount, number, stop_num):\n",
    "    number_list = [1] * headcount\n",
    "    index = 0\n",
    "    while(sum(number_list) > headcount - stop_num):\n",
    "        count = 0\n",
    "        while(count < number): \n",
    "            if number_list[index] == 1:\n",
    "                count += 1\n",
    "            if count < number:\n",
    "                index = (index + 1) % headcount\n",
    "        number_list[index] = 0\n",
    "    return number_list\n",
    "    \n",
    "\n",
    "a = numberOff(40, 3, 39) \n",
    "\n",
    "index_of_one = a.index(1) + 1\n",
    "print([index_of_one]) "
   ]
  },
  {
   "cell_type": "code",
   "execution_count": 85,
   "metadata": {},
   "outputs": [
    {
     "name": "stdout",
     "output_type": "stream",
     "text": [
      "最后留下的是原来第 28 号的那位。\n"
     ]
    }
   ],
   "source": [
    "def find_last_person(num_people):\n",
    "    people = list(range(1, num_people + 1))\n",
    "\n",
    "    index = 0\n",
    "    while len(people) > 1:\n",
    "        index = (index + 2) % len(people)  # 每次报数为3的人，间隔为2\n",
    "        people.pop(index)\n",
    "\n",
    "    return people[0]\n",
    "\n",
    "num_people = 40\n",
    "result = find_last_person(num_people)\n",
    "print(f\"最后留下的是原来第 {result} 号的那位。\")"
   ]
  },
  {
   "cell_type": "code",
   "execution_count": 32,
   "metadata": {},
   "outputs": [
    {
     "name": "stdout",
     "output_type": "stream",
     "text": [
      "提取的数字数组: ['34', '67', '55', '33', '12', '98']\n"
     ]
    }
   ],
   "source": [
    "# 5-2\n",
    "import re\n",
    "\n",
    "# 输入的字符串\n",
    "input_string = '34岁,67年,55岁,33岁,12日,98年'\n",
    "\n",
    "# 使用正则表达式提取数字\n",
    "numbers = re.findall(r'\\d+', input_string)\n",
    "\n",
    "# 将结果保存到列表 L2 中\n",
    "L2 = numbers\n",
    "\n",
    "# 输出结果\n",
    "print(\"提取的数字数组:\", L2)\n"
   ]
  },
  {
   "cell_type": "code",
   "execution_count": 86,
   "metadata": {},
   "outputs": [
    {
     "name": "stdout",
     "output_type": "stream",
     "text": [
      "['34', '67', '55', '33', '12', '98']\n"
     ]
    }
   ],
   "source": [
    "string = '34岁,67年,55岁,33岁,12日,98年'\n",
    "numbers = []\n",
    "\n",
    "# 分割字符串并提取数字\n",
    "split_string = string.split(',')\n",
    "for item in split_string:\n",
    "\n",
    "    numbers.append(item.replace('岁', '').replace('年', '').replace('日', ''))\n",
    "\n",
    "print(numbers)"
   ]
  },
  {
   "cell_type": "code",
   "execution_count": 7,
   "metadata": {},
   "outputs": [
    {
     "name": "stdout",
     "output_type": "stream",
     "text": [
      "['100', ' 150', ' 180']\n",
      "['18', '22', '24']\n"
     ]
    }
   ],
   "source": [
    "# 5-3 \n",
    "C = 50\n",
    "H = 30\n",
    "input_sequence = \"100, 150, 180\"\n",
    "print(input_sequence.split(','))\n",
    "D_list = list(map(int, input_sequence.split(',')))\n",
    "\n",
    "Q_list = [str(int(((2 * C * D) / H) ** 0.5)) for D in D_list]\n",
    "print(Q_list)\n",
    "\n"
   ]
  },
  {
   "cell_type": "code",
   "execution_count": 12,
   "metadata": {},
   "outputs": [
    {
     "name": "stdout",
     "output_type": "stream",
     "text": [
      "[0, 0, 0, 0, 0, 0, 1, 2, 3, 4, 0, 2, 4, 6, 8]\n"
     ]
    }
   ],
   "source": [
    "# 5-4\n",
    "row = 3\n",
    "col = 5\n",
    "matrix = [[0] * col for _ in range(row)] \n",
    "# print(matrix[1][3])\n",
    "for i in range(0, row):\n",
    "    for j in range(0, col):\n",
    "        matrix[i][j] = i * j\n",
    "# print(matrix)\n",
    "one_dimensional_array = [element for row in matrix for element in row]\n",
    "print(one_dimensional_array)\n",
    "\n"
   ]
  },
  {
   "cell_type": "code",
   "execution_count": 15,
   "metadata": {},
   "outputs": [
    {
     "name": "stdout",
     "output_type": "stream",
     "text": [
      "['without', 'hello', 'bag', 'world']\n",
      "['bag', 'hello', 'without', 'world']\n"
     ]
    }
   ],
   "source": [
    "# 5-5\n",
    "\n",
    "# 输入的逗号分隔的单词序列\n",
    "input_string = 'without,hello,bag,world'\n",
    "\n",
    "# 使用逗号分隔符将单词分割成列表\n",
    "words = input_string.split(',')\n",
    "# print(words)\n",
    "# 对每个单词进行排序\n",
    "sorted_words = sorted(words)\n",
    "\n",
    "# 将结果保存到列表 L5 中\n",
    "L5 = sorted_words\n",
    "\n",
    "# 输出结果\n",
    "print(L5)\n"
   ]
  },
  {
   "cell_type": "code",
   "execution_count": 17,
   "metadata": {},
   "outputs": [
    {
     "name": "stdout",
     "output_type": "stream",
     "text": [
      "['PRACTICE', 'MAKES', 'PERFECT']\n"
     ]
    }
   ],
   "source": [
    "# 5-6\n",
    "input_string = 'Practice makes perfect'\n",
    "\n",
    "# 使用逗号分隔符将单词分割成列表\n",
    "words = input_string.split(' ')\n",
    "# print(words)\n",
    "# # 对每个单词进行大写\n",
    "upper_words = [word.upper() for word in words]\n",
    "\n",
    "# 将结果保存到列表 L6 中\n",
    "L6 = upper_words\n",
    "\n",
    "# 输出结果\n",
    "print(L6)"
   ]
  },
  {
   "cell_type": "code",
   "execution_count": 20,
   "metadata": {},
   "outputs": [
    {
     "name": "stdout",
     "output_type": "stream",
     "text": [
      "['again', 'and', 'hello', 'makes', 'perfect', 'practice', 'world']\n"
     ]
    }
   ],
   "source": [
    "# 5-7\n",
    "input_string = 'hello world and practice makes perfect and hello world again'\n",
    "\n",
    "# 使用逗号分隔符将单词分割成列表\n",
    "words = input_string.split(' ')\n",
    "# print(words)\n",
    "# 利用集合去除重复项，然后转换为列表\n",
    "unique_words = sorted(list(set(words)))\n",
    "# # 将结果保存到列表 L6 中\n",
    "L7 = unique_words\n",
    "\n",
    "# 输出结果\n",
    "print(L7)"
   ]
  },
  {
   "cell_type": "code",
   "execution_count": 24,
   "metadata": {},
   "outputs": [
    {
     "name": "stdout",
     "output_type": "stream",
     "text": [
      "['0100', '0011', '1010', '1000']\n",
      "['1010']\n"
     ]
    }
   ],
   "source": [
    "# 5-8\n",
    "input_string = '0100,0011,1010,1000'\n",
    "\n",
    "# 使用逗号分隔符将单词分割成列表\n",
    "words = input_string.split(',')\n",
    "print(words)\n",
    "# 将二进制数转换为十进制\n",
    "five_word = []\n",
    "for i in words:\n",
    "    decimal_number = int(i, 2)\n",
    "    if decimal_number % 5 == 0:\n",
    "        five_word.append(i)\n",
    "# print(five_word)\n",
    "# 将结果保存到列表 L8 中\n",
    "L8 = five_word\n",
    "\n",
    "# 输出结果\n",
    "print(L8)"
   ]
  },
  {
   "cell_type": "code",
   "execution_count": 42,
   "metadata": {},
   "outputs": [
    {
     "name": "stdout",
     "output_type": "stream",
     "text": [
      "['2000', '2002', '2004', '2006', '2008', '2020', '2022', '2024', '2026', '2028', '2040', '2042', '2044', '2046', '2048', '2060', '2062', '2064', '2066', '2068', '2080', '2082', '2084', '2086', '2088', '2200', '2202', '2204', '2206', '2208', '2220', '2222', '2224', '2226', '2228', '2240', '2242', '2244', '2246', '2248', '2260', '2262', '2264', '2266', '2268', '2280', '2282', '2284', '2286', '2288', '2400', '2402', '2404', '2406', '2408', '2420', '2422', '2424', '2426', '2428', '2440', '2442', '2444', '2446', '2448', '2460', '2462', '2464', '2466', '2468', '2480', '2482', '2484', '2486', '2488', '2600', '2602', '2604', '2606', '2608', '2620', '2622', '2624', '2626', '2628', '2640', '2642', '2644', '2646', '2648', '2660', '2662', '2664', '2666', '2668', '2680', '2682', '2684', '2686', '2688', '2800', '2802', '2804', '2806', '2808', '2820', '2822', '2824', '2826', '2828', '2840', '2842', '2844', '2846', '2848', '2860', '2862', '2864', '2866', '2868', '2880', '2882', '2884', '2886', '2888']\n"
     ]
    }
   ],
   "source": [
    "# 5-9\n",
    "even_list = []\n",
    "num_list = [str(i) for i in range(1000, 3000+1)]\n",
    "# print(num_list)\n",
    "for i in range(0, len(num_list)):\n",
    "    a = num_list[i]\n",
    "    for i in range(0, len(a)):\n",
    "        if int(a[i]) % 2 != 0:\n",
    "            break\n",
    "    else:\n",
    "        even_list.append(a)    \n",
    "L9 = even_list\n",
    "print(L9)\n",
    "\n",
    "\n"
   ]
  },
  {
   "cell_type": "code",
   "execution_count": 48,
   "metadata": {},
   "outputs": [
    {
     "name": "stdout",
     "output_type": "stream",
     "text": [
      "[10, 3]\n"
     ]
    }
   ],
   "source": [
    "# 5-10\n",
    "input_string = 'Hello world! 123'\n",
    "alpha_count = 0\n",
    "num_count = 0\n",
    "for i in input_string:\n",
    "    a = i.isalpha()\n",
    "    alpha_count += a\n",
    "    b = i.isnumeric()\n",
    "    num_count += b\n",
    "\n",
    "L10 = [alpha_count, num_count]\n",
    "print(L10)\n"
   ]
  },
  {
   "cell_type": "code",
   "execution_count": 49,
   "metadata": {},
   "outputs": [
    {
     "name": "stdout",
     "output_type": "stream",
     "text": [
      "[1, 9]\n"
     ]
    }
   ],
   "source": [
    "# 5-11\n",
    "input_string = 'Hello world!'\n",
    "upper_count = 0\n",
    "lower_count = 0\n",
    "for i in input_string:\n",
    "    a = i.isupper()\n",
    "    upper_count += a\n",
    "    b = i.islower()\n",
    "    lower_count += b\n",
    "\n",
    "L11 = [upper_count, lower_count]\n",
    "print(L11)\n"
   ]
  },
  {
   "cell_type": "code",
   "execution_count": 53,
   "metadata": {},
   "outputs": [
    {
     "name": "stdout",
     "output_type": "stream",
     "text": [
      "密码有效！\n",
      "['ABd1234@1']\n"
     ]
    }
   ],
   "source": [
    "# 5-12\n",
    "import re\n",
    "\n",
    "def check_password(password):\n",
    "    # 使用正则表达式定义密码的规则\n",
    "    pattern = re.compile(r'^(?=.*[a-z])(?=.*[A-Z])(?=.*[0-9])(?=.*[$#@]).{6,12}$')\n",
    "\n",
    "    # 使用正则表达式匹配密码\n",
    "    if pattern.match(password):\n",
    "        return True\n",
    "    else:\n",
    "        return False\n",
    "\n",
    "# 用户输入的密码\n",
    "\n",
    "input_string = 'ABd1234@1,a F1#,2w3E*,2We3345'\n",
    "words = input_string.split(\",\")\n",
    "for i in words:\n",
    "# 检查密码的有效性\n",
    "    if check_password(i):\n",
    "        print(\"密码有效！\")\n",
    "        print([i])"
   ]
  },
  {
   "cell_type": "code",
   "execution_count": null,
   "metadata": {},
   "outputs": [],
   "source": [
    "# 初始化空列表\n",
    "result = []\n",
    "\n",
    "# 输入一系列逗号分隔的密码\n",
    "passwords = 'ABd1234@1,a F1#,2w3E*,2We3345'\n",
    "\n",
    "# 将密码按逗号分隔成单个密码\n",
    "password_list = passwords.split(',')\n",
    "\n",
    "# 遍历每个密码，检查是否符合上述标准\n",
    "for password in password_list:\n",
    "    # 判断密码长度是否在6到12之间\n",
    "    if 6 <= len(password) <= 12:\n",
    "        # 判断是否含有小写字母\n",
    "        if any(char.islower() for char in password):\n",
    "            # 判断是否含有数字\n",
    "            if any(char.isdigit() for char in password):\n",
    "                # 判断是否含有大写字母\n",
    "                if any(char.isupper() for char in password):\n",
    "                    # 判断是否含有特殊字符\n",
    "                    if any(char in '$#@' for char in password):\n",
    "                        # 符合所有条件，将密码添加到result列表中\n",
    "                        result.append(password)\n",
    "\n",
    "# 输出符合条件的密码列表 result\n",
    "print(result)\n",
    "\n",
    "# 令 L12 = result 即可"
   ]
  },
  {
   "cell_type": "code",
   "execution_count": 54,
   "metadata": {},
   "outputs": [
    {
     "name": "stdout",
     "output_type": "stream",
     "text": [
      "[4, 13, 27, 38, 49, 49, 55, 65, 76, 97]\n"
     ]
    }
   ],
   "source": [
    "# 5-13\n",
    "array_1 = [49, 38, 65, 97, 76, 13, 27, 49, 55, 4] \n",
    "\n",
    "def bubble_sort(nums):\n",
    "    for i in range(len(nums) - 1):  # 这个循环负责设置冒泡排序进行的次数\n",
    "        for j in range(len(nums) - i - 1):  # j为列表下标\n",
    "            if nums[j] > nums[j + 1]:\n",
    "                nums[j], nums[j + 1] = nums[j + 1], nums[j]\n",
    "    return nums\n",
    "print(bubble_sort(array_1))"
   ]
  },
  {
   "cell_type": "code",
   "execution_count": 60,
   "metadata": {},
   "outputs": [
    {
     "name": "stdout",
     "output_type": "stream",
     "text": [
      "0\n"
     ]
    }
   ],
   "source": [
    "\n"
   ]
  },
  {
   "cell_type": "code",
   "execution_count": 76,
   "metadata": {},
   "outputs": [
    {
     "name": "stdout",
     "output_type": "stream",
     "text": [
      "[2]\n"
     ]
    }
   ],
   "source": [
    "input_string = 'UP 5; DOWN 3; LEFT 3; RIGHT 2'\n",
    "\n",
    "# 将输入字符串分割成操作列表\n",
    "moves = input_string.split(';')\n",
    "\n",
    "# 初始化一个字典用于存储移动信息\n",
    "move_dict = {}\n",
    "\n",
    "# 解析每个操作并添加到字典中\n",
    "for move in moves:\n",
    "    # print(move.strip()) # 去除字符串两端的空白\n",
    "    # 分割操作，获取方向和步数\n",
    "    direction, steps = move.strip().split()\n",
    "    \n",
    "    # 将步数转换为整数\n",
    "    steps = int(steps)\n",
    "    \n",
    "    # 添加到字典中\n",
    "    move_dict[direction] = steps\n",
    "\n",
    "# # 输出结果\n",
    "# print(move_dict)\n",
    "location = [0, 0]\n",
    "\n",
    "for key, value in move_dict.items():\n",
    "    # print(key, value)\n",
    "    if key == \"UP\":\n",
    "        location[1] += value\n",
    "    if key == \"DOWN\":\n",
    "        location[1] -= value\n",
    "    if key == \"LEFT\":\n",
    "        location[0] -= value\n",
    "    if key == \"RIGHT\":\n",
    "        location[0] += value\n",
    "# print(location)\n",
    "\n",
    "distance = round((location[0] ** 2 + location[1] ** 2) ** 0.5)\n",
    "print([distance])"
   ]
  },
  {
   "cell_type": "code",
   "execution_count": 82,
   "metadata": {},
   "outputs": [
    {
     "name": "stdout",
     "output_type": "stream",
     "text": [
      "解方程组的结果:\n",
      "x = 23, y = 12\n",
      "[23, 12]\n"
     ]
    }
   ],
   "source": [
    "# 5-15\n",
    "from sympy import symbols, Eq, solve\n",
    "\n",
    "# 定义变量\n",
    "x, y = symbols('x y')\n",
    "\n",
    "# 定义方程组\n",
    "equation1 = Eq(2 * x + 4 * y, 94)\n",
    "equation2 = Eq(x + y, 35)\n",
    "\n",
    "# 解方程组\n",
    "solution = solve((equation1, equation2), (x, y))\n",
    "\n",
    "# 输出结果\n",
    "print(\"解方程组的结果:\")\n",
    "print(f\"x = {solution[x]}, y = {solution[y]}\")\n",
    "print([solution[x], solution[y]])"
   ]
  },
  {
   "cell_type": "code",
   "execution_count": 83,
   "metadata": {},
   "outputs": [
    {
     "name": "stdout",
     "output_type": "stream",
     "text": [
      "解方程组的结果:\n",
      "鸡的数量 x = 23, 兔子的数量 y = 12\n",
      "结果保存到数组L15中: [23, 12]\n"
     ]
    }
   ],
   "source": [
    "# 循环穷举可能的鸡和兔子的数量\n",
    "for x in range(36):  # 最多35个头，鸡和兔子数量不超过35\n",
    "    y = 35 - x  # 兔子的数量等于头的数量减去鸡的数量\n",
    "\n",
    "    # 验证是否满足94条腿的条件\n",
    "    if 2 * x + 4 * y == 94:\n",
    "        # 输出结果\n",
    "        print(\"解方程组的结果:\")\n",
    "        print(f\"鸡的数量 x = {x}, 兔子的数量 y = {y}\")\n",
    "\n",
    "        # 将结果保存到数组L15中\n",
    "        L15 = [x, y]\n",
    "        print(\"结果保存到数组L15中:\", L15)\n",
    "        break  # 找到一个解就结束循环\n"
   ]
  },
  {
   "cell_type": "code",
   "execution_count": 87,
   "metadata": {},
   "outputs": [
    {
     "name": "stdout",
     "output_type": "stream",
     "text": [
      "[23, 12]\n"
     ]
    }
   ],
   "source": [
    "import numpy as np\n",
    "\n",
    "def calculate_chicken_and_rabbit(heads, legs):\n",
    "    # 定义方程组的系数矩阵\n",
    "    coefficients = np.array([[1, 1], [2, 4]])\n",
    "    # 定义方程组的结果向量\n",
    "    constants = np.array([heads, legs])\n",
    "\n",
    "    # 解方程组，得到鸡和兔子的数量\n",
    "    x, y = np.linalg.solve(coefficients, constants)\n",
    "\n",
    "    # 将结果取整并保存到result中\n",
    "    result = [int(x), int(y)]\n",
    "    return result\n",
    "\n",
    "# 输入头的数量和腿的数量\n",
    "heads_count = 35\n",
    "legs_count = 94\n",
    "\n",
    "# 计算鸡和兔子的数量\n",
    "result = calculate_chicken_and_rabbit(heads_count, legs_count)\n",
    "\n",
    "# 打印结果\n",
    "print(result)\n",
    "\n",
    "# 令 L15 = result 即可"
   ]
  }
 ],
 "metadata": {
  "kernelspec": {
   "display_name": "Python 3",
   "language": "python",
   "name": "python3"
  },
  "language_info": {
   "codemirror_mode": {
    "name": "ipython",
    "version": 3
   },
   "file_extension": ".py",
   "mimetype": "text/x-python",
   "name": "python",
   "nbconvert_exporter": "python",
   "pygments_lexer": "ipython3",
   "version": "3.11.2"
  },
  "orig_nbformat": 4
 },
 "nbformat": 4,
 "nbformat_minor": 2
}
