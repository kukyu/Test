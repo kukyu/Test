{
 "cells": [
  {
   "attachments": {},
   "cell_type": "markdown",
   "metadata": {},
   "source": [
    "#### 删除所有存在缺失值的行：\n",
    "\n",
    "` df.dropna(axis=0, how='any', inplace=True) `\n",
    "#### 删除所有有缺失值的行\n",
    "\n",
    "` df.dropna() # -- 默认axis=0 `\n",
    "#### 删除所有有缺失值的列\n",
    "`df.dropna(axis='columns')`\n",
    "`df.dropna(axis=1)`\n",
    "#### 删除所有值缺失的行\n",
    "`df.dropna(how='all')`\n",
    "#### 删除至少有两个非缺失值的行\n",
    "`df.dropna(thresh=2)`\n",
    "#### 指定判断缺失值的列范围\n",
    "`df.dropna(subset=['education', 'value'])`\n",
    "#### 使删除和的结果生效\n",
    "`df.dropna(inplace=True)`\n",
    "#### 指定列的缺失值删除\n",
    "`df.value.dropna()`"
   ]
  },
  {
   "attachments": {},
   "cell_type": "markdown",
   "metadata": {},
   "source": [
    "#### 提取每列缺失值的具体行数"
   ]
  },
  {
   "attachments": {},
   "cell_type": "markdown",
   "metadata": {},
   "source": [
    "\n",
    "``` Python\n",
    "for columname in df.columns: #遍历每一列 \n",
    "    if df[columname].count()  != len(df): #判断缺失行条件：所在列的值数等于总数据的长度\n",
    "        #将存在缺失值的行的索引转换成列表储存\n",
    "        loc = df[columname][df[columname].isnull().values == True].index.tolist()\n",
    "        print('列名：\"{}\",第{}行位置有缺失值'.format(columname, loc))\n",
    "\n",
    "```\n"
   ]
  },
  {
   "cell_type": "code",
   "execution_count": 7,
   "metadata": {},
   "outputs": [
    {
     "name": "stdout",
     "output_type": "stream",
     "text": [
      "hel\n"
     ]
    }
   ],
   "source": [
    "s = \"hello\"\n",
    "s = s[:-2]\n",
    "print(s)  # 输出 \"hell\"\n"
   ]
  },
  {
   "attachments": {},
   "cell_type": "markdown",
   "metadata": {},
   "source": [
    "#### 8.2 DataFrame.merge()  \n",
    "- df = pd.merge(left, right, how = \"inner\",on = \"None\")  \n",
    "- 参数：  \n",
    "    - left: 左表。也就是第一个df。  \n",
    "    - right：右表。也就是第二个df。  \n",
    "    - how: 和concat里面的\"join\"类似，表示“如何合并两表。  \n",
    "        - 1）left: 只使用左表的键。  \n",
    "        - 2）right：只使用右表的键。  \n",
    "        - 3）inner: 使用左右表键的交集。  \n",
    "        - 4）outer：使用左右表键的并集。  \n",
    "    - on: 表示按照哪一个键来进行合并。  \n",
    "- 类似于关系型数据库的连接方式，可以根据一个或多个键将不同的DatFrame连接起来。该函数的典型应用场景是，针对同一个主键存在两张不同字段的表，根据主键整合到一张表里面。"
   ]
  },
  {
   "attachments": {},
   "cell_type": "markdown",
   "metadata": {},
   "source": [
    "#### 8.3 DataFrame.append()  \n",
    "- 语法：  \n",
    "    - DataFrame.append(other,ignore_index=False, verify_integrity=False, sort=None)  \n",
    "- 参数：  \n",
    "    - other: DataFrame、series、dict、list这样的数据结构  \n",
    "    - ignore_index:默认值为False，如果为True则不使用index标签  \n",
    "    - verify_integrity :默认值为False，如果为True当创建相同的index时会抛出ValueError的异常o sort: boolean，默认是None，该属性在pandas的0.23.0的版本才存在。  \n",
    "- 功能说明:  \n",
    "    - 向dataframe对象中添加新的行，如果添加的列名不在dataframe对象中，将会被当作新的列进行添加"
   ]
  },
  {
   "attachments": {},
   "cell_type": "markdown",
   "metadata": {},
   "source": [
    "### 8.4 DataFrame.join()  \n",
    "- 语法：  \n",
    "    - DataFrame.join(other, on=None, how=’left’, lsuffix=”, rsuffix=”, sort=False)  \n",
    "- 参数：  \n",
    "    - other:【DataFrame，或者带有名字的Series，或者DataFrame的list】如果传递的是Series，那么其name属性应当是一个集合，并且该集合将会作为结果DataFrame的列名  \n",
    "    - on:【列名称，或者列名称的list/tuple，或者类似形状的数组】连接的列，默认使用索引连接  \n",
    "    - how:【{‘left’, ‘right’, ‘outer’, ‘inner’}, default:‘left’】连接的方式，默认为左连接  \n",
    "    - lsuffix:【string】左DataFrame中重复列的后缀  \n",
    "    - rsuffix:【string】右DataFrame中重复列的后缀  \n",
    "    - sort:【boolean, default:False】按照字典顺序对结果在连接键上排序。如果为False，连接键的顺序取决于连接类型（关键字）。  \n",
    "- 主要用于索引上的合并，其参数的意义与merge方法中的参数意义基本一样。该方法最为简单，主要用于索引上的合并"
   ]
  },
  {
   "attachments": {},
   "cell_type": "markdown",
   "metadata": {},
   "source": [
    "### 8.5 总结  \n",
    "- join 最简单，主要用于基于索引的横向合并拼接  \n",
    "- merge 最常用，主要用于基于指定列的横向合并拼接  \n",
    "- concat最强大，可用于横向和纵向合并拼接  \n",
    "- append，主要用于纵向追加"
   ]
  },
  {
   "attachments": {},
   "cell_type": "markdown",
   "metadata": {},
   "source": [
    "### 14. expanding()函数  \n",
    "- DataFrame.expanding(min_periods = 1，center = False，axis = 0)  \n",
    "    - rolling()函数，是固定窗口大小，进行滑动计算；  取当前行和上一行进行平均\n",
    "    - expanding()函数只设置最小的观测值数量，不固定窗口大小，实现累计计算，即不断扩展；即每次计算时，都会取当前行及其之前的所有行的数据进行平均.min_periods参数表示在窗口大小小于该值时，仍然可以计算平均值。"
   ]
  },
  {
   "attachments": {},
   "cell_type": "markdown",
   "metadata": {},
   "source": [
    "### 15. agg()函数  \n",
    "- 聚合函数，对分组后数据进行聚合，默认情况对分组后其他列进行聚合；\n",
    "- \n",
    "  `df[['grade', 'cycle']].agg(['sum', 'mean', 'median', 'min', 'max', 'std', 'var'])`\n",
    "\n",
    "  `df.agg({'grade' : np.mean, 'cycle' : np.sum})`\n",
    "\n",
    "\n",
    "  - agg()函数：  \n",
    "    - 聚合函数，对分组后数据进行聚合，默认情况对分组后其他列进行聚合。  \n",
    "    - DataFrame.agg（func，axis = 0，* args，** kwargs ）  \n",
    "- 例：  \n",
    "    - 1.使用agg求出当前数据对应的统计量  \n",
    "        - df[['salary', 'score']].agg([np.sum])  \n",
    "    - 2.使用agg分别求字段的不同统计量  \n",
    "        - df.agg({'salary' : np.sum, 'score' : np.mean})  \n",
    "    - 3.使用agg方法求不同字段的不同数目统计量  \n",
    "        - df.agg({'salary' : np.sum, 'score' : [np.sum, np.mean]})  \n",
    "    - 4.在agg方法中使用自定义函数  \n",
    "        - df.agg({'salary' : 自定义函数}, axis=0)  \n",
    "- 相关资料：  \n",
    "    - https://blog.csdn.net/jcjic/article/details/109839096"
   ]
  },
  {
   "attachments": {},
   "cell_type": "markdown",
   "metadata": {},
   "source": [
    "### 17. query()函数：使用布尔表达式查询帧的列  \n",
    "- 语法：  \n",
    "    - df.query(expr，inplace = False，** kwargs)  \n",
    "- 参数：  \n",
    "    - expr：str要评估的查询字符串。你可以在环境中引用变量，在它们前面添加一个'@'字符 。@a + b  \n",
    "    - inplace=False：是否修改数据或返回副本  \n",
    "    - kwargs：dict关键字参数\n",
    "\n",
    "`df.query('month == 3 and day == 16')`"
   ]
  },
  {
   "cell_type": "code",
   "execution_count": 9,
   "metadata": {},
   "outputs": [
    {
     "name": "stdout",
     "output_type": "stream",
     "text": [
      "123\n"
     ]
    }
   ],
   "source": [
    "a = 123.5\n",
    "print(int(a))\n"
   ]
  },
  {
   "cell_type": "code",
   "execution_count": 11,
   "metadata": {},
   "outputs": [
    {
     "name": "stdout",
     "output_type": "stream",
     "text": [
      "   hour   salary\n",
      "0    10  22250.0\n",
      "1    11  27500.0\n"
     ]
    }
   ],
   "source": [
    "import pandas as pd\n",
    "import numpy as np\n",
    "\n",
    "# 假设 df 是包含你的数据的 DataFrame\n",
    "data = {\n",
    "    'createTime': ['2020-03-16 11:30:18', '2020-03-16 10:58:48', '2020-03-16 10:46:39', '2020-03-16 10:45:44', '2020-03-16 10:20:41'],\n",
    "    'education': ['本科', '本科', '不限', '本科', '本科'],\n",
    "    'salary': [27500, 30000, 27500, 16500, 15000],\n",
    "    'category': ['高', '高', '高', '中', '中'],\n",
    "    'date': ['2020-03-16', '2020-03-16', '2020-03-16', '2020-03-16', '2020-03-16'],\n",
    "    'hour': [11, 10, 10, 10, 10]\n",
    "}\n",
    "\n",
    "df = pd.DataFrame(data)\n",
    "\n",
    "# 将 'salary' 列的元素都转换成整数类型\n",
    "df['salary'] = df['salary'].astype(int)\n",
    "\n",
    "# 按 'hour' 列进行分组，计算平均薪水\n",
    "average_salary_by_hour = df.groupby('hour')['salary'].mean().reset_index()\n",
    "\n",
    "# 打印结果\n",
    "print(average_salary_by_hour)\n"
   ]
  },
  {
   "cell_type": "code",
   "execution_count": null,
   "metadata": {},
   "outputs": [],
   "source": [
    "# 对education和category进行dummy处理\n",
    "df1 = pd.get_dummies(df1,columns=['education','category'])"
   ]
  },
  {
   "cell_type": "code",
   "execution_count": 19,
   "metadata": {},
   "outputs": [
    {
     "name": "stdout",
     "output_type": "stream",
     "text": [
      "55\n"
     ]
    }
   ],
   "source": [
    "a = str(20)\n",
    "b = str(35)\n",
    "x = [a, b]\n",
    "\n",
    "# print(sum(x))\n",
    "print(sum(map(int, x)))"
   ]
  },
  {
   "attachments": {},
   "cell_type": "markdown",
   "metadata": {},
   "source": [
    "- pd.read_csv()||pd.to_csv()索引问题index:  \n",
    "    - to_csv()存储时不加索引  \n",
    "        - df.to_csv(path, index= False, header= False)  \n",
    "    - read_csv()读取时声明第一列是索引,第一行是索引  \n",
    "        - df = pd.read_csv(path, index_col= 0, header= 0)  \n",
    "        - header = 0 # 源文件第一行作为读取后的列索引  \n",
    "        - header = None # 源文件没有列索引，自动为其添加  \n",
    "        - index_col = None # 源文件没有行索引，自动为其添加，把原来其自己的行索引视为新的一列  \n",
    "        - index_col = 0  # 指定源文件第一列作为行索引  \n",
    "- 相关资料:  \n",
    "    - https://blog.csdn.net/The_Time_Runner/article/details/88353161"
   ]
  }
 ],
 "metadata": {
  "kernelspec": {
   "display_name": "Python 3",
   "language": "python",
   "name": "python3"
  },
  "language_info": {
   "codemirror_mode": {
    "name": "ipython",
    "version": 3
   },
   "file_extension": ".py",
   "mimetype": "text/x-python",
   "name": "python",
   "nbconvert_exporter": "python",
   "pygments_lexer": "ipython3",
   "version": "3.11.2"
  },
  "orig_nbformat": 4
 },
 "nbformat": 4,
 "nbformat_minor": 2
}
