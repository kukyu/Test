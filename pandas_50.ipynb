{
 "cells": [
  {
   "cell_type": "code",
   "execution_count": 2,
   "metadata": {},
   "outputs": [],
   "source": [
    "import pandas as pd\n",
    "import numpy as np"
   ]
  },
  {
   "cell_type": "code",
   "execution_count": 2,
   "metadata": {},
   "outputs": [
    {
     "data": {
      "text/plain": [
       "a    1\n",
       "b    2\n",
       "c    3\n",
       "d    4\n",
       "e    5\n",
       "dtype: int64"
      ]
     },
     "execution_count": 2,
     "metadata": {},
     "output_type": "execute_result"
    }
   ],
   "source": [
    "d = {'a':1,'b':2,'c':3,'d':4,'e':5}\n",
    "df = pd.Series(d)\n",
    "df"
   ]
  },
  {
   "cell_type": "code",
   "execution_count": 19,
   "metadata": {},
   "outputs": [
    {
     "data": {
      "text/html": [
       "<div>\n",
       "<style scoped>\n",
       "    .dataframe tbody tr th:only-of-type {\n",
       "        vertical-align: middle;\n",
       "    }\n",
       "\n",
       "    .dataframe tbody tr th {\n",
       "        vertical-align: top;\n",
       "    }\n",
       "\n",
       "    .dataframe thead th {\n",
       "        text-align: right;\n",
       "    }\n",
       "</style>\n",
       "<table border=\"1\" class=\"dataframe\">\n",
       "  <thead>\n",
       "    <tr style=\"text-align: right;\">\n",
       "      <th></th>\n",
       "      <th>A</th>\n",
       "      <th>B</th>\n",
       "      <th>C</th>\n",
       "      <th>D</th>\n",
       "    </tr>\n",
       "  </thead>\n",
       "  <tbody>\n",
       "    <tr>\n",
       "      <th>2023-12-08 10:53:57.403007</th>\n",
       "      <td>0.449373</td>\n",
       "      <td>-0.492246</td>\n",
       "      <td>-1.348745</td>\n",
       "      <td>-1.025049</td>\n",
       "    </tr>\n",
       "    <tr>\n",
       "      <th>2023-12-09 10:53:57.403007</th>\n",
       "      <td>-0.530280</td>\n",
       "      <td>0.223494</td>\n",
       "      <td>0.168982</td>\n",
       "      <td>-0.498524</td>\n",
       "    </tr>\n",
       "    <tr>\n",
       "      <th>2023-12-10 10:53:57.403007</th>\n",
       "      <td>-1.156541</td>\n",
       "      <td>-0.873378</td>\n",
       "      <td>-2.080489</td>\n",
       "      <td>-0.390194</td>\n",
       "    </tr>\n",
       "    <tr>\n",
       "      <th>2023-12-11 10:53:57.403007</th>\n",
       "      <td>0.152774</td>\n",
       "      <td>-0.711359</td>\n",
       "      <td>-1.580234</td>\n",
       "      <td>-0.392393</td>\n",
       "    </tr>\n",
       "    <tr>\n",
       "      <th>2023-12-12 10:53:57.403007</th>\n",
       "      <td>-0.611103</td>\n",
       "      <td>-0.923988</td>\n",
       "      <td>2.099935</td>\n",
       "      <td>0.027279</td>\n",
       "    </tr>\n",
       "    <tr>\n",
       "      <th>2023-12-13 10:53:57.403007</th>\n",
       "      <td>-0.214474</td>\n",
       "      <td>1.495608</td>\n",
       "      <td>0.123345</td>\n",
       "      <td>-2.197069</td>\n",
       "    </tr>\n",
       "  </tbody>\n",
       "</table>\n",
       "</div>"
      ],
      "text/plain": [
       "                                   A         B         C         D\n",
       "2023-12-08 10:53:57.403007  0.449373 -0.492246 -1.348745 -1.025049\n",
       "2023-12-09 10:53:57.403007 -0.530280  0.223494  0.168982 -0.498524\n",
       "2023-12-10 10:53:57.403007 -1.156541 -0.873378 -2.080489 -0.390194\n",
       "2023-12-11 10:53:57.403007  0.152774 -0.711359 -1.580234 -0.392393\n",
       "2023-12-12 10:53:57.403007 -0.611103 -0.923988  2.099935  0.027279\n",
       "2023-12-13 10:53:57.403007 -0.214474  1.495608  0.123345 -2.197069"
      ]
     },
     "execution_count": 19,
     "metadata": {},
     "output_type": "execute_result"
    }
   ],
   "source": [
    "dates = pd.date_range('today', periods=6)  # 定义时间序列作为 index\n",
    "num_arr = np.random.randn(6, 4)  # 传入 numpy 随机数组\n",
    "columns = ['A', 'B', 'C', 'D']  # 将列表作为列名\n",
    "df1 = pd.DataFrame(num_arr, index=dates, columns=columns)\n",
    "df1\n"
   ]
  },
  {
   "cell_type": "code",
   "execution_count": 4,
   "metadata": {},
   "outputs": [
    {
     "data": {
      "text/plain": [
       "DatetimeIndex(['2023-12-08 10:46:57.941206', '2023-12-09 10:46:57.941206',\n",
       "               '2023-12-10 10:46:57.941206', '2023-12-11 10:46:57.941206',\n",
       "               '2023-12-12 10:46:57.941206', '2023-12-13 10:46:57.941206'],\n",
       "              dtype='datetime64[ns]', freq='D')"
      ]
     },
     "execution_count": 4,
     "metadata": {},
     "output_type": "execute_result"
    }
   ],
   "source": []
  },
  {
   "cell_type": "code",
   "execution_count": 18,
   "metadata": {},
   "outputs": [
    {
     "name": "stdout",
     "output_type": "stream",
     "text": [
      "0.2715048061665953 0.5269820245672386\n"
     ]
    }
   ],
   "source": [
    "a = np.random.rand(10)\n",
    "print(a.std(), a.mean())\n",
    "# a.mean()"
   ]
  },
  {
   "cell_type": "code",
   "execution_count": null,
   "metadata": {},
   "outputs": [],
   "source": [
    "# shift() 是一个 Pandas 库中 DataFrame 和 Series 对象的方法，用于将数据沿轴方向移动指定数量的步数。请注意，这是 Pandas 中的方法，而不是 Python 内置的列表方法。\n",
    "df = pd.DataFrame({'A': [1, 2, 2, 3, 4, 5, 5, 5, 6, 7, 7]})\n",
    "print(df)\n",
    "df1 = df.loc[df['A'].shift() != df['A']]  # 当前行和前一行不同\n",
    "df1\n"
   ]
  },
  {
   "cell_type": "code",
   "execution_count": 7,
   "metadata": {},
   "outputs": [
    {
     "name": "stdout",
     "output_type": "stream",
     "text": [
      "          a         b         c         d         e\n",
      "0  0.190012  0.956006  0.487364  0.843339  0.835707\n",
      "1  0.758324  0.238696  0.443913  0.531902  0.536586\n",
      "2  0.670884  0.474630  0.642963  0.916294  0.169260\n",
      "3  0.036443  0.466266  0.426276  0.698155  0.615722\n",
      "4  0.025479  0.973401  0.626212  0.264912  0.472023\n"
     ]
    },
    {
     "data": {
      "text/plain": [
       "'a'"
      ]
     },
     "execution_count": 7,
     "metadata": {},
     "output_type": "execute_result"
    }
   ],
   "source": [
    "# 25.一个有5列的DataFrame，求哪一列的和最小\n",
    "df = pd.DataFrame(np.random.random(size=(5, 5)), columns=list('abcde'))\n",
    "print(df)\n",
    "df.sum().idxmin()"
   ]
  },
  {
   "cell_type": "code",
   "execution_count": 18,
   "metadata": {},
   "outputs": [
    {
     "name": "stdout",
     "output_type": "stream",
     "text": [
      "原始 DataFrame:\n",
      "    A    B\n",
      "0   a   12\n",
      "1   a  345\n",
      "2   a    3\n",
      "3   b    1\n",
      "4   b   45\n",
      "5   c   14\n",
      "6   a    4\n",
      "7   a   52\n",
      "8   b   54\n",
      "9   c   23\n",
      "10  c  235\n",
      "11  c   21\n",
      "12  b   57\n",
      "13  b    3\n",
      "14  c   87\n",
      "\n",
      "每个值的前3大的B的和:\n",
      "A\n",
      "a    416\n",
      "b    160\n",
      "c    380\n",
      "Name: B, dtype: int64\n"
     ]
    }
   ],
   "source": [
    "# 26.给定DataFrame，求A列每个值的前3大的B的和\n",
    "import pandas as pd\n",
    "\n",
    "df = pd.DataFrame({'A': list('aaabbcaabcccbbc'), \n",
    "                   'B': [12,345,3,1,45,14,4,52,54,23,235,21,57,3,87]})\n",
    "\n",
    "# 使用groupby和nlargest计算每个值的前3大的B的和\n",
    "df1 = df.groupby('A')['B'].sum()\n",
    "\n",
    "print(\"原始 DataFrame:\")\n",
    "print(df)\n",
    "\n",
    "print(\"\\n每个值的前3大的B的和:\")\n",
    "print(df1)\n"
   ]
  },
  {
   "cell_type": "code",
   "execution_count": 20,
   "metadata": {},
   "outputs": [
    {
     "name": "stdout",
     "output_type": "stream",
     "text": [
      "A\n",
      "(0, 10]        3\n",
      "(10, 20]      22\n",
      "(20, 30]       0\n",
      "(30, 40]     142\n",
      "(40, 50]       0\n",
      "(50, 60]       0\n",
      "(60, 70]       0\n",
      "(70, 80]      79\n",
      "(80, 90]       0\n",
      "(90, 100]     99\n",
      "Name: B, dtype: int64\n"
     ]
    }
   ],
   "source": [
    "df = pd.DataFrame({'A': [1,2,11,11,33,34,35,40,79,99], \n",
    "                   'B': [1,2,11,11,33,34,35,40,79,99]})\n",
    "# print(df)\n",
    "df1 = df.groupby(pd.cut(df['A'], np.arange(0, 101, 10)))['B'].sum()\n",
    "print(df1)\n"
   ]
  },
  {
   "cell_type": "code",
   "execution_count": 21,
   "metadata": {},
   "outputs": [
    {
     "name": "stdout",
     "output_type": "stream",
     "text": [
      "   grps  vals\n",
      "0     a   -12\n",
      "1     a   345\n",
      "2     a     3\n",
      "3     b     1\n",
      "4     b    45\n",
      "5     c    14\n",
      "6     a     4\n",
      "7     a   -52\n",
      "8     b    54\n",
      "9     c    23\n",
      "10    c  -235\n",
      "11    c    21\n",
      "12    b    57\n",
      "13    b     3\n",
      "14    c    87\n",
      "   grps        vals\n",
      "0     a  117.333333\n",
      "1     a  345.000000\n",
      "2     a    3.000000\n",
      "3     b    1.000000\n",
      "4     b   45.000000\n",
      "5     c   14.000000\n",
      "6     a    4.000000\n",
      "7     a  117.333333\n",
      "8     b   54.000000\n",
      "9     c   23.000000\n",
      "10    c   36.250000\n",
      "11    c   21.000000\n",
      "12    b   57.000000\n",
      "13    b    3.000000\n",
      "14    c   87.000000\n"
     ]
    }
   ],
   "source": [
    "# 30.给定DataFrame，将负值代替为同组的平均值\n",
    "df = pd.DataFrame({'grps': list('aaabbcaabcccbbc'), \n",
    "                   'vals': [-12,345,3,1,45,14,4,-52,54,23,-235,21,57,3,87]})\n",
    "print(df)\n",
    "\n",
    "def replace(group):\n",
    "    mask = group<0\n",
    "    group[mask] = group[~mask].mean()\n",
    "    return group\n",
    "\n",
    "df['vals'] = df.groupby(['grps'])['vals'].transform(replace)\n",
    "print(df)"
   ]
  },
  {
   "cell_type": "code",
   "execution_count": 22,
   "metadata": {},
   "outputs": [
    {
     "data": {
      "text/plain": [
       "2015-01-01    0.092474\n",
       "2015-01-02    0.817488\n",
       "2015-01-05    0.974394\n",
       "2015-01-06    0.153550\n",
       "2015-01-07    0.694652\n",
       "2015-01-08    0.228610\n",
       "2015-01-09    0.487368\n",
       "2015-01-12    0.926609\n",
       "2015-01-13    0.903025\n",
       "2015-01-14    0.076576\n",
       "Freq: B, dtype: float64"
      ]
     },
     "execution_count": 22,
     "metadata": {},
     "output_type": "execute_result"
    }
   ],
   "source": [
    "# 创建连续工作日\n",
    "dti = pd.date_range(start='2015-01-01', end='2015-12-31', freq='B') \n",
    "s = pd.Series(np.random.rand(len(dti)), index=dti)\n",
    "\n",
    "s.head(10)"
   ]
  },
  {
   "cell_type": "code",
   "execution_count": 23,
   "metadata": {},
   "outputs": [
    {
     "data": {
      "text/plain": [
       "DatetimeIndex(['2015-01-15', '2015-02-19', '2015-03-19', '2015-04-16',\n",
       "               '2015-05-21', '2015-06-18', '2015-07-16', '2015-08-20',\n",
       "               '2015-09-17', '2015-10-15', '2015-11-19', '2015-12-17',\n",
       "               '2016-01-21', '2016-02-18', '2016-03-17', '2016-04-21',\n",
       "               '2016-05-19', '2016-06-16', '2016-07-21', '2016-08-18',\n",
       "               '2016-09-15', '2016-10-20', '2016-11-17', '2016-12-15'],\n",
       "              dtype='datetime64[ns]', freq='WOM-3THU')"
      ]
     },
     "execution_count": 23,
     "metadata": {},
     "output_type": "execute_result"
    }
   ],
   "source": [
    "# 36.创建2015-2016每月第三个星期四的序列\n",
    "pd.date_range('2015-01-01', '2016-12-31', freq='WOM-3THU') # \"Week Of Month\""
   ]
  },
  {
   "cell_type": "code",
   "execution_count": 26,
   "metadata": {},
   "outputs": [
    {
     "data": {
      "text/plain": [
       "A  0    0.298529\n",
       "   1    0.366230\n",
       "   2    0.904217\n",
       "   3    0.429713\n",
       "B  0    0.598670\n",
       "   1    0.909490\n",
       "   2    0.260656\n",
       "   3    0.207627\n",
       "C  0    0.047077\n",
       "   1    0.799205\n",
       "   2    0.117957\n",
       "   3    0.255750\n",
       "dtype: float64"
      ]
     },
     "execution_count": 26,
     "metadata": {},
     "output_type": "execute_result"
    }
   ],
   "source": [
    "#  层次化索引\n",
    "letters = ['A', 'B', 'C']\n",
    "numbers = list(range(4))\n",
    "\n",
    "mi = pd.MultiIndex.from_product([letters, numbers])\n",
    "s = pd.Series(np.random.rand(12), index=mi)\n",
    "s\n"
   ]
  },
  {
   "cell_type": "code",
   "execution_count": 28,
   "metadata": {},
   "outputs": [
    {
     "data": {
      "text/plain": [
       "A  1    0.366230\n",
       "   3    0.429713\n",
       "B  1    0.909490\n",
       "   3    0.207627\n",
       "C  1    0.799205\n",
       "   3    0.255750\n",
       "dtype: float64"
      ]
     },
     "execution_count": 28,
     "metadata": {},
     "output_type": "execute_result"
    }
   ],
   "source": [
    "# 44.选择二级索引为1, 3的行\n",
    "s.loc[:, [1, 3]]"
   ]
  },
  {
   "cell_type": "code",
   "execution_count": 29,
   "metadata": {},
   "outputs": [
    {
     "data": {
      "text/plain": [
       "A  2    0.904217\n",
       "   3    0.429713\n",
       "B  2    0.260656\n",
       "   3    0.207627\n",
       "dtype: float64"
      ]
     },
     "execution_count": 29,
     "metadata": {},
     "output_type": "execute_result"
    }
   ],
   "source": [
    "# 45.对s进行切片操作，取一级索引从头至B，二级索引从2开始到最后\n",
    "s.loc[pd.IndexSlice[:'B', 2:]]"
   ]
  },
  {
   "cell_type": "code",
   "execution_count": 31,
   "metadata": {},
   "outputs": [],
   "source": [
    "# 46.计算每个一级索引的和（A, B, C每一个的和）\n",
    "# s.sum(level=0)"
   ]
  }
 ],
 "metadata": {
  "kernelspec": {
   "display_name": "Python 3",
   "language": "python",
   "name": "python3"
  },
  "language_info": {
   "codemirror_mode": {
    "name": "ipython",
    "version": 3
   },
   "file_extension": ".py",
   "mimetype": "text/x-python",
   "name": "python",
   "nbconvert_exporter": "python",
   "pygments_lexer": "ipython3",
   "version": "3.11.2"
  },
  "orig_nbformat": 4
 },
 "nbformat": 4,
 "nbformat_minor": 2
}
